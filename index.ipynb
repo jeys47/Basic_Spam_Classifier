{
 "cells": [
  {
   "cell_type": "code",
   "execution_count": 1,
   "id": "ca059cdb",
   "metadata": {},
   "outputs": [],
   "source": [
    "import pandas as pd\n",
    "from sklearn.feature_extraction.text import TfidfVectorizer\n",
    "from sklearn.model_selection import train_test_split\n",
    "from sklearn.naive_bayes import MultinomialNB\n",
    "from sklearn.metrics import accuracy_score, classification_report"
   ]
  },
  {
   "cell_type": "code",
   "execution_count": 2,
   "id": "719ae468",
   "metadata": {},
   "outputs": [],
   "source": [
    "#data\n",
    "messages = [\n",
    "    # SPAM\n",
    "        'Win a free iPhone now !',\n",
    "        'Cheap loans available',\n",
    "        'Congratulations, you have won a prize !',\n",
    "        'Congratulations, you\\'ve won a $1000 gift card. Click here to claim',\n",
    "        'Limited-time offer: buy now and get 50% off',\n",
    "        'Get rich quick! Invest in crypto today',\n",
    "        'Free entry into our sweepstakes! Click the link to win big',\n",
    "        'Important message : Your account is at risk. Verify your details here',\n",
    "        'Earn $500 a day working from home! Sign up now!',\n",
    "        'Cheap meds online. No prescription required',\n",
    "        'You\\'ve been selected for a free vacation! Call us today',\n",
    "        'Your loan is approved. Contact us to finalize the process',\n",
    "        'Exclusive deal! Claim your prize before midnight',\n",
    "    # HAM\n",
    "        'Call me when you can',\n",
    "        'Are you free this weekend ?',\n",
    "        'Let\\'s meet for lunch',\n",
    "        'Hey, are we still meeting for lunch today?',\n",
    "        'Can you send me the report by 5 PM?',\n",
    "        'Don\\'t forget to pick up groceries on your way home',\n",
    "        'I\\'ll call you back in 10 minutes',\n",
    "        'Happy birthday! Hope you have a wonderful day',\n",
    "        'Let\\'s catch up this weekend for coffee',\n",
    "        'Good luck on your exam tomorrow!',\n",
    "        'Just landed. I\\'ll see you soon',\n",
    "        'Can you please review this document and let me know?',\n",
    "        'Meeting has been rescheduled to 3 PM'\n",
    "    ]\n",
    "labels = [\n",
    "        'spam','ham','spam','ham','spam','spam','spam','spam','spam','spam','spam','spam','spam','spam','spam','ham','ham','ham','ham','ham','ham','ham','ham','ham','ham','ham'\n",
    "    ]"
   ]
  },
  {
   "cell_type": "code",
   "execution_count": 3,
   "id": "78f93f76",
   "metadata": {},
   "outputs": [],
   "source": [
    "data = pd.DataFrame({\n",
    "    'message': messages,\n",
    "    'label': labels\n",
    "})\n",
    "df = pd.DataFrame(data)"
   ]
  },
  {
   "cell_type": "code",
   "execution_count": 4,
   "id": "9711fda7",
   "metadata": {},
   "outputs": [],
   "source": [
    "#vectorisation\n",
    "vectorizer = TfidfVectorizer(stop_words='english', lowercase=True)\n",
    "X = vectorizer.fit_transform(df['message'])"
   ]
  },
  {
   "cell_type": "code",
   "execution_count": 5,
   "id": "9d3cb056",
   "metadata": {},
   "outputs": [],
   "source": [
    "#encodage des labels\n",
    "y = df['label'].map({'ham': 0, 'spam': 1})"
   ]
  },
  {
   "cell_type": "code",
   "execution_count": 6,
   "id": "75856e7e",
   "metadata": {},
   "outputs": [],
   "source": [
    "#separation des datas en train/test\n",
    "X_train, X_test, y_train, y_test = train_test_split(X, y, test_size = 0.3, random_state=42)"
   ]
  },
  {
   "cell_type": "code",
   "execution_count": 7,
   "id": "a58dc8f3",
   "metadata": {},
   "outputs": [
    {
     "data": {
      "text/plain": [
       "MultinomialNB()"
      ]
     },
     "execution_count": 7,
     "metadata": {},
     "output_type": "execute_result"
    }
   ],
   "source": [
    "#entrainement du model\n",
    "model = MultinomialNB()\n",
    "model.fit(X_train, y_train)"
   ]
  },
  {
   "cell_type": "code",
   "execution_count": 8,
   "id": "cf236e9a",
   "metadata": {},
   "outputs": [],
   "source": [
    "#predictions\n",
    "y_pred = model.predict(X_test)"
   ]
  },
  {
   "cell_type": "code",
   "execution_count": 9,
   "id": "4b175248",
   "metadata": {},
   "outputs": [
    {
     "name": "stdout",
     "output_type": "stream",
     "text": [
      "________________________________________________________________________________\n",
      "Accuracy :  0.5\n",
      "Rapport de classification : \n",
      "               precision    recall  f1-score   support\n",
      "\n",
      "           0       0.43      1.00      0.60         3\n",
      "           1       1.00      0.20      0.33         5\n",
      "\n",
      "    accuracy                           0.50         8\n",
      "   macro avg       0.71      0.60      0.47         8\n",
      "weighted avg       0.79      0.50      0.43         8\n",
      "\n",
      "________________________________________________________________________________\n"
     ]
    }
   ],
   "source": [
    "#evaluation\n",
    "print('________' * 10)\n",
    "print('Accuracy : ', accuracy_score(y_test, y_pred))\n",
    "print('Rapport de classification : \\n', classification_report(y_test, y_pred))\n",
    "print('________' * 10)"
   ]
  },
  {
   "cell_type": "code",
   "execution_count": 10,
   "id": "b6170329",
   "metadata": {},
   "outputs": [
    {
     "name": "stdout",
     "output_type": "stream",
     "text": [
      "ham\n"
     ]
    }
   ],
   "source": [
    "#test sur nouveau msg\n",
    "new_msg = ['hey bro !']\n",
    "new_msg_vect = vectorizer.transform(new_msg)\n",
    "prediction = model.predict(new_msg_vect)\n",
    "print('spam' if prediction[0] == 1 else 'ham')"
   ]
  },
  {
   "cell_type": "code",
   "execution_count": null,
   "id": "046bf671",
   "metadata": {},
   "outputs": [],
   "source": []
  }
 ],
 "metadata": {
  "kernelspec": {
   "display_name": "Python 3 (ipykernel)",
   "language": "python",
   "name": "python3"
  },
  "language_info": {
   "codemirror_mode": {
    "name": "ipython",
    "version": 3
   },
   "file_extension": ".py",
   "mimetype": "text/x-python",
   "name": "python",
   "nbconvert_exporter": "python",
   "pygments_lexer": "ipython3",
   "version": "3.9.12"
  }
 },
 "nbformat": 4,
 "nbformat_minor": 5
}
